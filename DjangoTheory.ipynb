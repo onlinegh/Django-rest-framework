{
  "nbformat": 4,
  "nbformat_minor": 0,
  "metadata": {
    "colab": {
      "name": "DjangoTheory.ipynb",
      "provenance": [],
      "collapsed_sections": []
    },
    "kernelspec": {
      "name": "python3",
      "display_name": "Python 3"
    }
  },
  "cells": [
    {
      "cell_type": "markdown",
      "metadata": {
        "id": "HI0-FHjf67Ef",
        "colab_type": "text"
      },
      "source": [
        "migration is a way of applying changes made in models that are adding the field, deleting model, etc. into a database.\n",
        "\n",
        "makemigration - This command is used to create a migration file.\n",
        "\n",
        "migrate - This command creates a table according to the schema defined in migration file\n",
        "\n",
        "sqlmigrate - This command is used to show a raw SQL query of the applied migration.\n",
        "\n",
        "showmigrations - This command list all the migrations and their status.\n",
        "\n"
      ]
    },
    {
      "cell_type": "markdown",
      "metadata": {
        "id": "3cXti8EA7K_c",
        "colab_type": "text"
      },
      "source": [
        "By default there are four main authentication methods are available -\n",
        "\n",
        "1. SessionAuthentication - This authentication scheme uses Django's default session backend for authentication and it is appropriate for AJAX clients that are running in the same session context as your website.\n",
        "\n",
        "If authentication is successful, it provides the following credentials -\n",
        "\n",
        "request.user - Django User instance.\n",
        "request.auth - none\n",
        "Unauthenticated responses will result in an HTTP 403 Forbidden response.\n",
        "\n",
        "2. BasicAuthentication - Basic authentication scheme uses HTTP Basic Authentication that is signed against a user's username and password. BasicAuthentication is appropriate for testing.\n",
        "\n",
        "If authentication is successful, it provides the following credentials -\n",
        "\n",
        "request.user - Django User instance.\n",
        "request.auth - None\n",
        "Unauthenticated responses will result in an HTTP 401 Unauthorized response with an appropriate WWW-Authenticate header. \n",
        "\n",
        "3. TokenAuthentication - TokenAuthentication scheme uses a simple token-based HTTP authentication scheme and is suitable for client-server setups like native desktop or mobile client.\n",
        "\n",
        "If authentication is successful, TokenAuthentication provides the following credentials.\n",
        "\n",
        "request.user - a Django User instance.\n",
        "request.auth - a rest_framework.authtoken.models.Token instance.\n",
        "Unauthenticated responses will result in an HTTP 401 Unauthorized response with an appropriate WWW-Authenticate header.\n",
        "\n",
        "4. RemoteUserAuthentication - RemoteUserAuthentication scheme allows you to delegate authentication to your web server which sets the REMOTE_USERenvironment variable.\n",
        "\n",
        "If authentication is successful, RemoteUserAuthentication providese following credentials -\n",
        "\n",
        "request.user - Django User instance.\n",
        "request.auth - None"
      ]
    },
    {
      "cell_type": "markdown",
      "metadata": {
        "id": "DS-3J9Qb7_Af",
        "colab_type": "text"
      },
      "source": [
        "3) Mention the architecture of Django architecture?\n",
        "\n",
        "Django architecture consists of\n",
        "\n",
        "Models: It describes your database schema and your data structure\n",
        "Views: It controls what a user sees, the view retrieves data from appropriate models and execute any calculation made to the data and pass it to the template\n",
        "Templates: It determines how the user sees it. It describes how the data received from the views should be changed or formatted for display on the page\n",
        "Controller: The Django framework and URL parsing"
      ]
    },
    {
      "cell_type": "markdown",
      "metadata": {
        "id": "qrI4GTAj_ngl",
        "colab_type": "text"
      },
      "source": [
        "Mention what does the Django templates consists of?\n",
        "\n",
        "The template is a simple text file.  It can create any text-based format like XML, CSV, HTML, etc.  A template contains variables that get replaced with values when the template is evaluated and tags (% tag %) that controls the logic of the template"
      ]
    },
    {
      "cell_type": "markdown",
      "metadata": {
        "id": "7-QOXHq4_4cr",
        "colab_type": "text"
      },
      "source": [
        "10) Explain the use of session framework in Django?\n",
        "\n",
        "In Django, the session framework enables you to store and retrieve arbitrary data on a per-site-visitor basis.  It stores data on the server side and abstracts the receiving and sending of cookies.  Session can be implemented through a piece of middleware.\n",
        "\n",
        "11) Explain how you can use file based sessions?\n",
        "\n",
        "To use file based session you have to set the SESSION_ENGINE settings to “django.contrib.sessions.backends.file”"
      ]
    },
    {
      "cell_type": "markdown",
      "metadata": {
        "id": "oUiM1eLHAOWE",
        "colab_type": "text"
      },
      "source": [
        "13) Mention what command line can be used to load data into Django?\n",
        "\n",
        "To load data into Django you have to use the command line Django-admin.py loaddata. The command line will searches the data and loads the contents of the named fixtures into the database.\n",
        "\n",
        "14) Explain what does django-admin.py makemessages command is used for?\n",
        "\n",
        "This command line executes over the entire source tree of the current directory and abstracts all the strings marked for translation.  It makes a message file in the locale directory"
      ]
    },
    {
      "cell_type": "markdown",
      "metadata": {
        "id": "p1ZebYBSAhij",
        "colab_type": "text"
      },
      "source": [
        "15) List out the inheritance styles in Django?\n",
        "\n",
        "In Django, there is three possible inheritance styles\n",
        "\n",
        "Abstract base classes: This style is used when you only wants parent’s class to hold information that you don’t want to type out for each child model\n",
        "\n",
        "Multi-table Inheritance: This style is used If you are sub-classing an existing model and need each model to have its own database table\n",
        "\n",
        "Proxy models: You can use this model, If you only want to modify the Python level behavior of the model, without changing the model’s fields\n",
        "16) Mention what does the Django field class types?\n",
        "\n",
        "Field class types determines\n",
        "\n",
        "The database column type\n",
        "The default HTML widget to avail while rendering a form field\n",
        "The minimal validation requirements used in Django admin and in automatically generated forms"
      ]
    },
    {
      "cell_type": "markdown",
      "metadata": {
        "id": "AM0DngLUA7cb",
        "colab_type": "text"
      },
      "source": [
        "Some of the technical features of Django include:\n",
        "\n",
        "Admin Interface\n",
        "Code Reusability\n",
        "CDN Integration\n",
        "Security Features\n",
        "ORM\n",
        "A huge number of third-party applications"
      ]
    },
    {
      "cell_type": "markdown",
      "metadata": {
        "id": "7admMwehBIZG",
        "colab_type": "text"
      },
      "source": [
        "Django is based on MTV architecture which is a variant of MVC architecture.\n",
        "\n",
        "MVC is an acronym for Model, View, and Controller. There are different parts of a website so that they can develop and execute in different machines to achieve faster and more responsive websites. Django implements MTV architecture by having 3 different components and they are all handled by Django itself.\n",
        "\n",
        "Models are the part which is models.py file in a Django application, which defines the data structure of the particular application.\n",
        "\n",
        "View are the mediators between models and templates, they receive the data from the Model and make it a dictionary and return the same as a response to a request to the Template.\n",
        "\n",
        "The Template is the component with which user interacts, and it generates both statically and dynamically in the Django server."
      ]
    },
    {
      "cell_type": "code",
      "metadata": {
        "id": "djtmrSJeB2m8",
        "colab_type": "code",
        "colab": {}
      },
      "source": [
        ""
      ],
      "execution_count": 0,
      "outputs": []
    },
    {
      "cell_type": "markdown",
      "metadata": {
        "id": "WK6cSa41B3Lv",
        "colab_type": "text"
      },
      "source": [
        "What is the Controller in the MVC framework of Django?\n",
        "\n",
        "Ans. As Django implements in MTV framework, these three components communicate with each other via the controller and that controller is actually Django framework. Django framework does the controlling part itself."
      ]
    },
    {
      "cell_type": "markdown",
      "metadata": {
        "id": "kwsnpY54CG8o",
        "colab_type": "text"
      },
      "source": [
        "Why is Django called loosely coupled framework?\n",
        "\n",
        "Ans. Django is called a loosely coupled framework because of the MTV architecture it’s based on. **Django’s architecture is a variant of MVC architecture and MTV is useful because it completely separates server code from the client’s machine.**\n",
        "\n",
        "Django’s Models and Views are present on the client machine and only templates return to the client, which are essentially HTML, CSS code and contains the required data from the models.\n",
        "\n",
        "These components are totally different from each other and therefore, **front-end developers and backend developers can work simultaneously on the project** as these two parts changing will have little to no effect on each other when changed.\n",
        "\n",
        "Therefore, Django is called a loosely coupled framework"
      ]
    },
    {
      "cell_type": "markdown",
      "metadata": {
        "id": "KEnTA9MOCcYU",
        "colab_type": "text"
      },
      "source": [
        "What is Django ORM?\n",
        "\n",
        "Ans. Django ORM is one of the special feature-rich tools in Django. ORM is an acronym for Object-Relational Mapper. This ORM enables a developer to interact with a database in a pythonic way.\n",
        "\n",
        "Django ORM is the abstraction between models (web application data-structure) and the database where the data is stored. It makes possible to retrieve, save, delete and perform other operations over the database without ever writing any SQL code.\n",
        "\n",
        "It also covers many loopholes and takes all the field attributes and gives you more control over your code in Python rather than any database language."
      ]
    },
    {
      "cell_type": "markdown",
      "metadata": {
        "id": "zmKbbBPJCt7y",
        "colab_type": "text"
      },
      "source": [
        "Why is Django better then Flask?\n",
        "\n",
        "Ans. Django has its own unique qualities over Flask which is also a Python Framework. The key differences between them are:\n",
        "\n",
        "**Django is a high-level python framework while Flask is a low-level Python Framework **providing you with the minimum functionality, a server would require.\n",
        "\n",
        "Django comes with lots of built-in functionality like Django ORM, Admin Panel, Web-templating System, Inheritance, serialization while Flask comes with a development server, NoSQL support, support for unit testing, which are already there in Django."
      ]
    },
    {
      "cell_type": "markdown",
      "metadata": {
        "id": "qXU8QO1fDust",
        "colab_type": "text"
      },
      "source": [
        "Middleware in Django is used for which purpose?\n",
        "\n",
        "Ans. **Middleware in the Django framework is the component which operates on request and transfers it to the view and before passing it to the template engine, it starts operating on a response.**\n",
        "\n",
        "Django middleware list\n",
        "\n",
        "This is the list of middleware that installs by default in your Django framework.\n",
        "\n",
        "It serves many different purposes like session management, user authentication, etc."
      ]
    },
    {
      "cell_type": "markdown",
      "metadata": {
        "id": "A_7jzuA2D6ZK",
        "colab_type": "text"
      },
      "source": [
        "Name some popular websites or apps using Django?\n",
        "\n",
        "Ans. Django is a very powerful framework and there are many websites that use this framework. Some of the highly trafficked websites using Django are:\n",
        "\n",
        "Instagram\n",
        "Disqus\n",
        "Mozilla\n",
        "Bitbucket\n",
        "YouTube\n",
        "Spotify\n",
        "NASA\n",
        "Eventbrite"
      ]
    },
    {
      "cell_type": "markdown",
      "metadata": {
        "id": "SpsakfIhEP3D",
        "colab_type": "text"
      },
      "source": [
        "7.How can you setup Database in Django?\n",
        "Answer:\n",
        "To set up a database in Django, you can use the command edit my site/ setting.py, it is a normal python module with module level representing Django settings.\n",
        "Django uses SQLite database by default. It is easy for Django users because it doesn’t require any other type of installation. In the case of other databases, you have the following keys in the DATABASE ‘default’ item to match your database connection settings.\n",
        "***Engines: you can change database by using ‘django.db.backends.sqlite3’ , ‘django.db.backeneds.mysql’, ‘django.db.backends.postgresql_psycopg2’, ‘django.db.backends.oracle’***\n",
        "\n",
        "\n",
        "*Name: The name of your database.* In the case if you are using SQLite as your database, in that case, a database will be a file on your computer, Name should be a full absolute path, including the file name of that file.\n",
        "You can add setting likes setting like Password, Host, User, etc. in your database, if you are not choosing SQLite as your database."
      ]
    },
    {
      "cell_type": "markdown",
      "metadata": {
        "id": "KxtagcYwEUtA",
        "colab_type": "text"
      },
      "source": [
        "9.What is the use of session framework in Django?\n",
        "Answer:\n",
        "The session framework facilitates you to store and retrieve arbitrary data on a per-site visitor basis. It stores data on the server side and abstracts the receiving and sending of cookies. A session can be implemented through a piece of middleware."
      ]
    },
    {
      "cell_type": "markdown",
      "metadata": {
        "id": "qsUFFySWEZiZ",
        "colab_type": "text"
      },
      "source": [
        " \n",
        "10.What is the usage of middlewares in Django?\n",
        "Answer:\n",
        "Below are the usage of middlewares in Django:\n",
        "\n",
        "•Session management\n",
        "\n",
        "•Cross-site request forgery protection\n",
        "\n",
        "•Use authentication\n",
        "\n",
        "•Content Gzipping"
      ]
    },
    {
      "cell_type": "markdown",
      "metadata": {
        "id": "oH4b-5vsFBww",
        "colab_type": "text"
      },
      "source": [
        "What is the usage of Django-admin.py and manage.py?\n",
        "Django-admin.py: It is a Django's command line utility for administrative tasks.\n",
        "\n",
        "Manage.py: It is an automatically created file in each Django project. It is a thin wrapper around the Django-admin.py. It has the following usage:\n",
        "\n",
        "It puts your project's package on sys.path.\n",
        "It sets the DJANGO_SETTING_MODULE environment variable to points to your project's setting.py file."
      ]
    },
    {
      "cell_type": "markdown",
      "metadata": {
        "id": "A3kampa9FGr4",
        "colab_type": "text"
      },
      "source": [
        "**What are the signals in Django?**\n",
        "\n",
        "\n",
        "Signals are pieces of code which contain information about what is happening. A dispatcher is used to sending the signals and listen for those signals.\n",
        "\n",
        "**What are the two important parameters in signals?**\n",
        "\n",
        "Receiver: It specifies the callback function which connected to the signal.\n",
        "\n",
        "Sender: It specifies a particular sender from where a signal is received."
      ]
    },
    {
      "cell_type": "markdown",
      "metadata": {
        "id": "rSTACTPZFRjF",
        "colab_type": "text"
      },
      "source": [
        "**What is Django Exception?**\n",
        "\n",
        "An exception is an abnormal event that leads to program failure. To deal with this situation, Django uses its exception classes and supports all core Python exceptions as well. Django core exceptions classes are defined in django.core.exceptions module."
      ]
    },
    {
      "cell_type": "code",
      "metadata": {
        "id": "cFM3UapGZ2Gi",
        "colab_type": "code",
        "colab": {}
      },
      "source": [
        ""
      ],
      "execution_count": 0,
      "outputs": []
    },
    {
      "cell_type": "code",
      "metadata": {
        "id": "gw7fDyULF-yI",
        "colab_type": "code",
        "colab": {}
      },
      "source": [
        ""
      ],
      "execution_count": 0,
      "outputs": []
    }
  ]
}
